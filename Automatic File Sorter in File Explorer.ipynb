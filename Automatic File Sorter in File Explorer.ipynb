{
 "cells": [
  {
   "cell_type": "code",
   "execution_count": 41,
   "id": "c377ce24",
   "metadata": {},
   "outputs": [],
   "source": [
    "##File Sorter\n",
    "\n",
    "import os, shutil\n",
    "\n",
    "\n",
    "path = r\"C:/Users/erika/OneDrive/Desktop/File Sorter Folder/\"\n",
    "\n",
    "\n",
    "file_name = os.listdir(path)\n",
    "\n",
    "\n",
    "folder_names = ['xlsx files', 'doc files', 'JPG files', 'mp4 files']\n",
    "\n",
    "\n",
    "for loop in range(0,4):\n",
    "    if not os.path.exists(path + folder_names[loop]):\n",
    "        os.makedirs((path + folder_names[loop]))\n",
    "\n",
    "for file in file_name:\n",
    "    if \".xlsx\" in file and not os.path.exists(path + \"xlsx/\" + file):\n",
    "        shutil.move(path + file, path + \"xlsx files/\" + file)\n",
    "    elif \".doc\" in file and not os.path.exists(path + \"doc/\" + file):\n",
    "        shutil.move(path + file, path + \"doc files/\" + file)\n",
    "    elif \".JPG\" in file and not os.path.exists(path + \"JPG/\" + file):\n",
    "        shutil.move(path + file, path + \"JPG files/\" + file)\n",
    "    elif \".mp4\" in file and not os.path.exists(path + \"mp4/\" + file):\n",
    "        shutil.move(path + file, path + \"mp4 files/\" + file)"
   ]
  },
  {
   "cell_type": "code",
   "execution_count": null,
   "id": "e895686d",
   "metadata": {},
   "outputs": [],
   "source": []
  },
  {
   "cell_type": "code",
   "execution_count": null,
   "id": "b6fc1ab2",
   "metadata": {},
   "outputs": [],
   "source": []
  },
  {
   "cell_type": "code",
   "execution_count": null,
   "id": "7bc94fc0",
   "metadata": {},
   "outputs": [],
   "source": []
  }
 ],
 "metadata": {
  "kernelspec": {
   "display_name": "Python 3 (ipykernel)",
   "language": "python",
   "name": "python3"
  },
  "language_info": {
   "codemirror_mode": {
    "name": "ipython",
    "version": 3
   },
   "file_extension": ".py",
   "mimetype": "text/x-python",
   "name": "python",
   "nbconvert_exporter": "python",
   "pygments_lexer": "ipython3",
   "version": "3.10.9"
  }
 },
 "nbformat": 4,
 "nbformat_minor": 5
}
